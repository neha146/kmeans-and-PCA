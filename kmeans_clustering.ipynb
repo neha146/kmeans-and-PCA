{
 "cells": [
  {
   "cell_type": "code",
   "execution_count": 2,
   "id": "fa89ba9c",
   "metadata": {},
   "outputs": [
    {
     "ename": "ModuleNotFoundError",
     "evalue": "No module named 'numpy'",
     "output_type": "error",
     "traceback": [
      "\u001b[1;31m---------------------------------------------------------------------------\u001b[0m",
      "\u001b[1;31mModuleNotFoundError\u001b[0m                       Traceback (most recent call last)",
      "Cell \u001b[1;32mIn[2], line 3\u001b[0m\n\u001b[0;32m      1\u001b[0m \u001b[38;5;66;03m# Importing the libraries\u001b[39;00m\n\u001b[1;32m----> 3\u001b[0m \u001b[38;5;28;01mimport\u001b[39;00m \u001b[38;5;21;01mnumpy\u001b[39;00m \u001b[38;5;28;01mas\u001b[39;00m \u001b[38;5;21;01mnp\u001b[39;00m\n\u001b[0;32m      4\u001b[0m \u001b[38;5;28;01mimport\u001b[39;00m \u001b[38;5;21;01mmatplotlib\u001b[39;00m\u001b[38;5;21;01m.\u001b[39;00m\u001b[38;5;21;01mpyplot\u001b[39;00m \u001b[38;5;28;01mas\u001b[39;00m \u001b[38;5;21;01mplt\u001b[39;00m\n\u001b[0;32m      5\u001b[0m \u001b[38;5;28;01mimport\u001b[39;00m \u001b[38;5;21;01mpandas\u001b[39;00m \u001b[38;5;28;01mas\u001b[39;00m \u001b[38;5;21;01mpd\u001b[39;00m\n",
      "\u001b[1;31mModuleNotFoundError\u001b[0m: No module named 'numpy'"
     ]
    }
   ],
   "source": [
    "# Importing the libraries\n",
    "\n",
    "import numpy as np\n",
    "import matplotlib.pyplot as plt\n",
    "import pandas as pd\n",
    "\n",
    "#Importing the mall dataset with pandas\n",
    "\n",
    "dataset = pd.read_csv('Iris Dataset.csv')\n",
    "X = dataset.iloc[:,[3,4]].values\n",
    "\n",
    "# Using the elbow method to find the optimal number of clusters\n",
    "\n",
    "from sklearn.cluster import KMeans\n",
    "wcss =[]\n",
    "for i in range (1,11):\n",
    "    kmeans = KMeans(n_clusters = i, init = 'k-means++', max_iter =300, n_init = 10, random_state = 0)\n",
    "    kmeans.fit(X)\n",
    "    wcss.append(kmeans.inertia_)\n",
    "\n",
    "# Plot the graph to visualize the Elbow Method to find the optimal number of cluster  \n",
    "plt.plot(range(1,11),wcss)\n",
    "plt.title('The Elbow Method')\n",
    "plt.xlabel('Number of clusters')\n",
    "plt.ylabel('WCSS')\n",
    "plt.show()\n",
    "\n",
    "# Applying KMeans to the dataset with the optimal number of cluster\n",
    "\n",
    "kmeans=KMeans(n_clusters= 5, init = 'k-means++', max_iter = 300, n_init = 10, random_state = 0)\n",
    "Y_KMeans = kmeans.fit_predict(X)\n",
    "\n",
    "# Visualising the clusters\n",
    "\n",
    "plt.scatter(X[Y_KMeans == 0, 0], X[Y_KMeans == 0,1],s = 100, c='red', label = 'Cluster 1')\n",
    "\n",
    "plt.scatter(X[Y_KMeans == 1, 0], X[Y_KMeans == 1,1],s = 100, c='blue', label = 'Cluster 2')\n",
    "\n",
    "plt.scatter(X[Y_KMeans == 2, 0], X[Y_KMeans == 2,1],s = 100, c='green', label = 'Cluster 3')\n",
    "\n",
    "plt.scatter(X[Y_KMeans == 3, 0], X[Y_KMeans == 3,1],s = 100, c='cyan', label = 'Cluster 4')\n",
    "\n",
    "plt.scatter(X[Y_KMeans == 4, 0], X[Y_KMeans == 4,1],s = 100, c='magenta', label = 'Cluster 5')\n",
    "\n",
    "plt.scatter(kmeans.cluster_centers_[:,0], kmeans.cluster_centers_[:,1], s = 300, c = 'yellow', label = 'Centroids')\n",
    "    \n",
    "plt.title('Clusters of clients')\n",
    "plt.xlabel('Annual Income (k$)')\n",
    "plt.ylabel('Spending score (1-100)')\n",
    "plt.legend()\n",
    "plt.show()"
   ]
  },
  {
   "cell_type": "code",
   "execution_count": null,
   "id": "fc1633bc",
   "metadata": {},
   "outputs": [
    {
     "ename": "",
     "evalue": "",
     "output_type": "error",
     "traceback": [
      "\u001b[1;31mRunning cells with 'Python 3.10.0 64-bit' requires ipykernel package.\n",
      "\u001b[1;31mRun the following command to install 'ipykernel' into the Python environment. \n",
      "\u001b[1;31mCommand: '\"c:/Program Files/Python310/python.exe\" -m pip install ipykernel -U --user --force-reinstall'"
     ]
    }
   ],
   "source": [
    "import numpy as np\n",
    "import pandas as pd\n",
    "\n",
    "def load_data(file_path):\n",
    "    data = pd.read_csv(file_path)\n",
    "    return data\n",
    "\n",
    "def preprocess_data(data):\n",
    "    x_train = data.iloc[:, :-1].values  # Extracting all columns except the last one\n",
    "    y_train = data.iloc[:, -1].values   # Extracting the last column\n",
    "    return x_train, y_train\n",
    "\n",
    "def compute_class_probabilities(y_train):\n",
    "    unique_classes, class_counts = np.unique(y_train, return_counts=True)\n",
    "    class_probabilities = class_counts / len(y_train)\n",
    "    return unique_classes, class_probabilities\n",
    "\n",
    "def compute_conditional_probabilities(x_train, y_train):\n",
    "    num_features = x_train.shape[1]\n",
    "    unique_classes = np.unique(y_train)\n",
    "    conditional_probabilities = {}\n",
    "\n",
    "    for class_label in unique_classes:\n",
    "        class_indices = np.where(y_train == class_label)\n",
    "        class_data = x_train[class_indices]\n",
    "        probabilities = (class_data.sum(axis=0) + 1) / (len(class_data) + num_features)\n",
    "        conditional_probabilities[class_label] = probabilities\n",
    "\n",
    "    return conditional_probabilities\n",
    "\n",
    "def naive_bayes(x_train, y_train, x_test):\n",
    "    unique_classes, class_probabilities = compute_class_probabilities(y_train)\n",
    "    conditional_probabilities = compute_conditional_probabilities(x_train, y_train)\n",
    "    num_samples, num_features = x_test.shape\n",
    "    num_classes = len(unique_classes)\n",
    "    predictions = []\n",
    "\n",
    "    for i in range(num_samples):\n",
    "        sample = x_test[i]\n",
    "        max_probability = float(\"-inf\")\n",
    "        predicted_class = None\n",
    "\n",
    "        for class_label in unique_classes:\n",
    "            class_probability = np.log(class_probabilities[class_label])\n",
    "\n",
    "            for j in range(num_features):\n",
    "                feature_value = sample[j]\n",
    "                conditional_probability = np.log(conditional_probabilities[class_label][j])\n",
    "                class_probability += conditional_probability * feature_value\n",
    "\n",
    "            if class_probability > max_probability:\n",
    "                max_probability = class_probability\n",
    "                predicted_class = class_label\n",
    "\n",
    "        predictions.append(predicted_class)\n",
    "\n",
    "    return predictions\n",
    "\n",
    "# Load training data\n",
    "train_data = load_data('train.csv')\n",
    "\n",
    "# Load test data for prediction\n",
    "test_data = load_data('test.csv')\n",
    "x_test, y_test = preprocess_data(test_data)\n",
    "\n",
    "# Load gender submission data for evaluation\n",
    "gender_submission = load_data('gender_submission.csv')\n",
    "y_actual = gender_submission.iloc[:, -1].values\n",
    "\n",
    "# Preprocess training data\n",
    "x_train, y_train = preprocess_data(train_data)\n",
    "\n",
    "# Perform Naive Bayes classification\n",
    "predictions = naive_bayes(x_train, y_train, x_test)\n",
    "\n",
    "# Evaluate accuracy\n",
    "accuracy = np.mean(predictions == y_actual) * 100\n",
    "print(f\"Accuracy: {accuracy}%\")"
   ]
  },
  {
   "cell_type": "code",
   "execution_count": null,
   "id": "536ee7ae",
   "metadata": {},
   "outputs": [
    {
     "ename": "",
     "evalue": "",
     "output_type": "error",
     "traceback": [
      "\u001b[1;31mRunning cells with 'Python 3.10.0 64-bit' requires ipykernel package.\n",
      "\u001b[1;31mRun the following command to install 'ipykernel' into the Python environment. \n",
      "\u001b[1;31mCommand: '\"c:/Program Files/Python310/python.exe\" -m pip install ipykernel -U --user --force-reinstall'"
     ]
    }
   ],
   "source": []
  }
 ],
 "metadata": {
  "kernelspec": {
   "display_name": "Python 3.10.0 64-bit",
   "language": "python",
   "name": "python3"
  },
  "language_info": {
   "codemirror_mode": {
    "name": "ipython",
    "version": 3
   },
   "file_extension": ".py",
   "mimetype": "text/x-python",
   "name": "python",
   "nbconvert_exporter": "python",
   "pygments_lexer": "ipython3",
   "version": "3.10.0"
  },
  "vscode": {
   "interpreter": {
    "hash": "26de051ba29f2982a8de78e945f0abaf191376122a1563185a90213a26c5da77"
   }
  }
 },
 "nbformat": 4,
 "nbformat_minor": 5
}
